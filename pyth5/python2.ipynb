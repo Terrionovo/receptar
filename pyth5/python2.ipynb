{
 "cells": [
  {
   "cell_type": "code",
   "execution_count": 193,
   "metadata": {},
   "outputs": [],
   "source": [
    "fruits = {'banana':3,'apple':2, 'mango':1, 'kiwi':5}"
   ]
  },
  {
   "cell_type": "code",
   "execution_count": 194,
   "metadata": {},
   "outputs": [
    {
     "name": "stdout",
     "output_type": "stream",
     "text": [
      "{'banana': 3, 'apple': 2, 'mango': 1, 'kiwi': 5}\n"
     ]
    }
   ],
   "source": [
    "print (fruits)"
   ]
  },
  {
   "cell_type": "code",
   "execution_count": 195,
   "metadata": {},
   "outputs": [
    {
     "name": "stdout",
     "output_type": "stream",
     "text": [
      "['banana']\n",
      "['apple']\n",
      "['mango']\n",
      "['kiwi']\n"
     ]
    }
   ],
   "source": [
    "for fruit in fruits:\n",
    "    print([fruit])"
   ]
  },
  {
   "cell_type": "code",
   "execution_count": 196,
   "metadata": {},
   "outputs": [
    {
     "name": "stdout",
     "output_type": "stream",
     "text": [
      "fruits_list =  ['banana', 'banana', 'banana']\n",
      "fruits_list =  ['apple', 'apple']\n",
      "fruits_list =  ['mango']\n",
      "fruits_list =  ['kiwi', 'kiwi', 'kiwi', 'kiwi', 'kiwi']\n"
     ]
    }
   ],
   "source": [
    "for key, value in fruits.items():\n",
    "    print(\"fruits_list = \" , [key] * value)"
   ]
  },
  {
   "cell_type": "code",
   "execution_count": 197,
   "metadata": {},
   "outputs": [
    {
     "name": "stdout",
     "output_type": "stream",
     "text": [
      "5\n"
     ]
    }
   ],
   "source": [
    "print(value)"
   ]
  },
  {
   "cell_type": "code",
   "execution_count": 56,
   "metadata": {},
   "outputs": [
    {
     "data": {
      "text/plain": [
       "['kiwi', 'kiwi', 'kiwi', 'kiwi', 'kiwi']"
      ]
     },
     "execution_count": 56,
     "metadata": {},
     "output_type": "execute_result"
    }
   ],
   "source": []
  },
  {
   "cell_type": "code",
   "execution_count": 75,
   "metadata": {},
   "outputs": [
    {
     "name": "stdout",
     "output_type": "stream",
     "text": [
      "fruits_list =  ['banana', 'banana', 'banana']\n",
      "fruits_list =  ['apple', 'apple']\n",
      "fruits_list =  ['mango']\n",
      "fruits_list =  ['kiwi', 'kiwi', 'kiwi', 'kiwi', 'kiwi']\n"
     ]
    }
   ],
   "source": [
    "for key, value in fruits.items():\n",
    "    fruits_list = ([key] * value)\n",
    "    print(\"fruits_list = \" , fruits_list)"
   ]
  },
  {
   "cell_type": "code",
   "execution_count": 91,
   "metadata": {},
   "outputs": [
    {
     "name": "stdout",
     "output_type": "stream",
     "text": [
      "bananafruits_list = bananafruits_list = banana ['banana', 'banana', 'banana']\n",
      "applefruits_list = apple ['apple', 'apple']\n",
      "mango ['mango']\n",
      "kiwifruits_list = kiwifruits_list = kiwifruits_list = kiwifruits_list = kiwi ['kiwi', 'kiwi', 'kiwi', 'kiwi', 'kiwi']\n"
     ]
    }
   ],
   "source": [
    "for key, value in fruits.items():\n",
    "    fruits_list = ([key] * value)\n",
    "    print(\"fruits_list = \".join([key] * value), fruits_list)"
   ]
  },
  {
   "cell_type": "code",
   "execution_count": 86,
   "metadata": {},
   "outputs": [
    {
     "name": "stdout",
     "output_type": "stream",
     "text": [
      "fruits_list =  ['kiwi', 'kiwi', 'kiwi', 'kiwi', 'kiwi']\n",
      "fruits_list =  ['kiwi', 'kiwi', 'kiwi', 'kiwi', 'kiwi']\n",
      "fruits_list =  ['kiwi', 'kiwi', 'kiwi', 'kiwi', 'kiwi']\n",
      "fruits_list =  ['kiwi', 'kiwi', 'kiwi', 'kiwi', 'kiwi']\n"
     ]
    }
   ],
   "source": []
  },
  {
   "cell_type": "code",
   "execution_count": 100,
   "metadata": {},
   "outputs": [
    {
     "name": "stdout",
     "output_type": "stream",
     "text": [
      "fruits_list =  bananabananabanana\n",
      "fruits_list =  appleapple\n",
      "fruits_list =  mango\n",
      "fruits_list =  kiwikiwikiwikiwikiwi\n"
     ]
    }
   ],
   "source": [
    "for key, value in fruits.items():\n",
    "    fruits_list = ([key] * value)\n",
    "    print( \"fruits_list = \", \"\".join(fruits_list))"
   ]
  },
  {
   "cell_type": "code",
   "execution_count": 199,
   "metadata": {},
   "outputs": [
    {
     "name": "stdout",
     "output_type": "stream",
     "text": [
      "fruits_list = ['banana', 'banana', 'banana']fruits_list = ['apple', 'apple']fruits_list = ['mango']fruits_list = ['kiwi', 'kiwi', 'kiwi', 'kiwi', 'kiwi']"
     ]
    }
   ],
   "source": [
    "for key, value in fruits.items():\n",
    "    fruits_list = ([key] * value)\n",
    "    print((\"fruits_list =\") , fruits_list, end='')"
   ]
  },
  {
   "cell_type": "code",
   "execution_count": 191,
   "metadata": {},
   "outputs": [
    {
     "name": "stdout",
     "output_type": "stream",
     "text": [
      "fruits_list =\n"
     ]
    }
   ],
   "source": [
    "print(\"fruits_list =\")\n",
    "for key, value in fruits.items():\n",
    "    info = {\"fruits_list =\":[key] * value}\n",
    "    info"
   ]
  },
  {
   "cell_type": "code",
   "execution_count": 186,
   "metadata": {},
   "outputs": [
    {
     "name": "stdout",
     "output_type": "stream",
     "text": [
      "shortest_fruit= kiwi\n"
     ]
    }
   ],
   "source": [
    "fruits = ['banana','apple', 'mango', 'kiwi']\n",
    "fruits.sort(key=lambda x: x.count(''))\n",
    "print(\"shortest_fruit=\", fruits[0])"
   ]
  },
  {
   "cell_type": "code",
   "execution_count": 188,
   "metadata": {},
   "outputs": [
    {
     "data": {
      "text/plain": [
       "{'shortest_fruit=': 'kiwi'}"
      ]
     },
     "execution_count": 188,
     "metadata": {},
     "output_type": "execute_result"
    }
   ],
   "source": [
    "fruits = ['banana','apple', 'mango', 'kiwi']\n",
    "fruits.sort(key=lambda x: x.count(''))\n",
    "info = {\"shortest_fruit=\":fruits[0]}\n",
    "info"
   ]
  },
  {
   "cell_type": "code",
   "execution_count": 208,
   "metadata": {},
   "outputs": [
    {
     "name": "stdout",
     "output_type": "stream",
     "text": [
      "fruits_list =\n",
      "['banana', 'banana', 'banana']['apple', 'apple']['mango']['kiwi', 'kiwi', 'kiwi', 'kiwi', 'kiwi']"
     ]
    }
   ],
   "source": [
    "print(\"fruits_list =\")\n",
    "for key, value in fruits.items():\n",
    "    fruits_list= ([key] * value)\n",
    "    print(fruits_list, end='')"
   ]
  },
  {
   "cell_type": "code",
   "execution_count": null,
   "metadata": {
    "collapsed": true
   },
   "outputs": [],
   "source": []
  }
 ],
 "metadata": {
  "kernelspec": {
   "display_name": "Python 3",
   "language": "python",
   "name": "python3"
  },
  "language_info": {
   "codemirror_mode": {
    "name": "ipython",
    "version": 3
   },
   "file_extension": ".py",
   "mimetype": "text/x-python",
   "name": "python",
   "nbconvert_exporter": "python",
   "pygments_lexer": "ipython3",
   "version": "3.6.1"
  }
 },
 "nbformat": 4,
 "nbformat_minor": 2
}
